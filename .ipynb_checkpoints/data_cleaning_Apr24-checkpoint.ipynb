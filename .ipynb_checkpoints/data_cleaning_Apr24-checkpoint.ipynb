{
 "cells": [
  {
   "cell_type": "code",
   "execution_count": 1,
   "metadata": {},
   "outputs": [
    {
     "name": "stderr",
     "output_type": "stream",
     "text": [
      "[nltk_data] Downloading package stopwords to\n",
      "[nltk_data]     /Users/diwang/nltk_data...\n",
      "[nltk_data]   Package stopwords is already up-to-date!\n",
      "[nltk_data] Downloading package wordnet to /Users/diwang/nltk_data...\n",
      "[nltk_data]   Package wordnet is already up-to-date!\n"
     ]
    }
   ],
   "source": [
    "import nltk\n",
    "import csv\n",
    "import ssl ## workaround for my specific authorization issue\n",
    "import pandas as pd\n",
    "from nltk.corpus import stopwords\n",
    "from nltk.tokenize import word_tokenize\n",
    "from nltk.stem.wordnet import WordNetLemmatizer\n",
    "from nltk.stem.porter import PorterStemmer\n",
    "\n",
    "try:\n",
    "    _create_unverified_https_context = ssl._create_unverified_context\n",
    "except AttributeError:\n",
    "    pass\n",
    "else:\n",
    "    ssl._create_default_https_context = _create_unverified_https_context\n",
    "\n",
    "DATA_PATH = 'out.csv'\n",
    "nltk.download('stopwords')\n",
    "nltk.download('wordnet')\n",
    "\n",
    "df = pd.read_csv(DATA_PATH)\n",
    "####### FOR TESTING ONLY ###########\n",
    "df = df.head(100)\n",
    "\n",
    "####### DROP USELESS COLUMNS  ###########\n",
    "df = df.drop('review_id', axis=1)\n",
    "df = df.drop('business_id', axis=1)\n",
    "df = df.drop('funny', axis=1)\n",
    "df = df.drop('cool', axis=1)\n",
    "df = df.drop('date', axis=1)\n",
    "####### LOWERCASE  ###########\n",
    "df['text-lowered'] = df['text'].str.lower()\n",
    "####### TOKENIZATION  ###########\n",
    "df['tokenized_text'] = df['text-lowered'].apply(word_tokenize)\n",
    "df = df.drop('text-lowered', axis=1)\n",
    "####### STOPWORDS REMOVAL  ###########\n",
    "stop = stopwords.words('english')\n",
    "df['tokenized_text'] = df['tokenized_text'].apply(lambda x: [item for item in x if item not in stop])\n",
    "####### STEMMING  ###########\n",
    "stemmer = PorterStemmer()\n",
    "df['tokenized_text'] = df['tokenized_text'].apply(lambda x: [stemmer.stem(y) for y in x])\n",
    "####### Lemmatizating  ###########\n",
    "lmtzr = WordNetLemmatizer()\n",
    "df['tokenized_text'] = df['tokenized_text'].apply(lambda x: [lmtzr.lemmatize(y) for y in x])\n",
    "######## LISTS JOIN AS SINGLE STRING ############\n",
    "df['tokenized_text_string'] = [' '.join(map(str, l)) for l in df['tokenized_text']]\n",
    "### POLARITY ###\n",
    "from nltk.sentiment.vader import SentimentIntensityAnalyzer\n",
    "nltk.download('vader_lexicon')\n",
    "analyzer = SentimentIntensityAnalyzer()\n",
    "df['compound'] = [analyzer.polarity_scores(x)['compound'] for x in df['tokenized_text_string']]\n",
    "df['neg'] = [analyzer.polarity_scores(x)['neg'] for x in df['tokenized_text_string']]\n",
    "df['neu'] = [analyzer.polarity_scores(x)['neu'] for x in df['tokenized_text_string']]\n",
    "df['pos'] = [analyzer.polarity_scores(x)['pos'] for x in df['tokenized_text_string']]\n",
    "##########################\n",
    "from rake_nltk import Rake\n",
    "def star_revised_logic(x):\n",
    "    if x == 3:\n",
    "        return 0\n",
    "    elif x>3:\n",
    "        return 1\n",
    "    else:\n",
    "        return -1\n",
    "r = Rake()\n",
    "r.extract_keywords_from_text(df['tokenized_text_string'][0])\n",
    "structure = r.get_ranked_phrases()[0:10]\n",
    "df['star_revised'] = df['stars'].apply(lambda x: star_revised_logic(x))"
   ]
  }
 ],
 "metadata": {
  "kernelspec": {
   "display_name": "Python 3",
   "language": "python",
   "name": "python3"
  },
  "language_info": {
   "codemirror_mode": {
    "name": "ipython",
    "version": 3
   },
   "file_extension": ".py",
   "mimetype": "text/x-python",
   "name": "python",
   "nbconvert_exporter": "python",
   "pygments_lexer": "ipython3",
   "version": "3.8.5"
  }
 },
 "nbformat": 4,
 "nbformat_minor": 4
}

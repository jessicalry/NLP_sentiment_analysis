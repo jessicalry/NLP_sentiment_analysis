{
 "cells": [
  {
   "cell_type": "markdown",
   "metadata": {},
   "source": [
    "# Data Preprocessing"
   ]
  },
  {
   "cell_type": "code",
   "execution_count": 1,
   "metadata": {},
   "outputs": [
    {
     "name": "stderr",
     "output_type": "stream",
     "text": [
      "[nltk_data] Downloading package stopwords to\n",
      "[nltk_data]     /Users/diwang/nltk_data...\n",
      "[nltk_data]   Package stopwords is already up-to-date!\n",
      "[nltk_data] Downloading package wordnet to /Users/diwang/nltk_data...\n",
      "[nltk_data]   Package wordnet is already up-to-date!\n",
      "[nltk_data] Downloading package vader_lexicon to\n",
      "[nltk_data]     /Users/diwang/nltk_data...\n",
      "[nltk_data]   Package vader_lexicon is already up-to-date!\n"
     ]
    }
   ],
   "source": [
    "import nltk\n",
    "import csv\n",
    "import ssl ## workaround for my specific authorization issue\n",
    "import pandas as pd\n",
    "from nltk.corpus import stopwords\n",
    "from nltk.tokenize import word_tokenize\n",
    "from nltk.stem.wordnet import WordNetLemmatizer\n",
    "from nltk.stem.porter import PorterStemmer\n",
    "\n",
    "try:\n",
    "    _create_unverified_https_context = ssl._create_unverified_context\n",
    "except AttributeError:\n",
    "    pass\n",
    "else:\n",
    "    ssl._create_default_https_context = _create_unverified_https_context\n",
    "\n",
    "DATA_PATH = 'out.csv'\n",
    "nltk.download('stopwords')\n",
    "nltk.download('wordnet')\n",
    "\n",
    "df = pd.read_csv(DATA_PATH)\n",
    "####### FOR TESTING ONLY ###########\n",
    "#df = df.head(100)\n",
    "\n",
    "####### DROP USELESS COLUMNS  ###########\n",
    "df = df.drop('review_id', axis=1)\n",
    "df = df.drop('business_id', axis=1)\n",
    "df = df.drop('funny', axis=1)\n",
    "df = df.drop('cool', axis=1)\n",
    "df = df.drop('date', axis=1)\n",
    "####### LOWERCASE  ###########\n",
    "df['text-lowered'] = df['text'].str.lower()\n",
    "####### TOKENIZATION  ###########\n",
    "df['tokenized_text'] = df['text-lowered'].apply(word_tokenize)\n",
    "df = df.drop('text-lowered', axis=1)\n",
    "####### STOPWORDS REMOVAL  ###########\n",
    "stop = stopwords.words('english')\n",
    "df['tokenized_text'] = df['tokenized_text'].apply(lambda x: [item for item in x if item not in stop])\n",
    "####### PUNCTUATION REMOVAL ###########\n",
    "import string\n",
    "df['tokenized_text'] = df['tokenized_text'].apply(lambda x: [item for item in x if item not in string.punctuation])\n",
    "####### STEMMING  ###########\n",
    "stemmer = PorterStemmer()\n",
    "df['tokenized_text'] = df['tokenized_text'].apply(lambda x: [stemmer.stem(y) for y in x])\n",
    "####### Lemmatizating  ###########\n",
    "lmtzr = WordNetLemmatizer()\n",
    "df['tokenized_text'] = df['tokenized_text'].apply(lambda x: [lmtzr.lemmatize(y) for y in x])\n",
    "######## LISTS JOIN AS SINGLE STRING ############\n",
    "df['tokenized_text_string'] = [' '.join(map(str, l)) for l in df['tokenized_text']]\n",
    "### POLARITY ###\n",
    "from nltk.sentiment.vader import SentimentIntensityAnalyzer\n",
    "nltk.download('vader_lexicon')\n",
    "analyzer = SentimentIntensityAnalyzer()\n",
    "df['compound'] = [analyzer.polarity_scores(x)['compound'] for x in df['tokenized_text_string']]\n",
    "df['neg'] = [analyzer.polarity_scores(x)['neg'] for x in df['tokenized_text_string']]\n",
    "df['neu'] = [analyzer.polarity_scores(x)['neu'] for x in df['tokenized_text_string']]\n",
    "df['pos'] = [analyzer.polarity_scores(x)['pos'] for x in df['tokenized_text_string']]\n",
    "##########################\n",
    "from rake_nltk import Rake\n",
    "def star_revised_logic(x):\n",
    "    if x == 3:\n",
    "        return 0\n",
    "    elif x>3:\n",
    "        return 1\n",
    "    else:\n",
    "        return -1\n",
    "r = Rake()\n",
    "r.extract_keywords_from_text(df['tokenized_text_string'][0])\n",
    "structure = r.get_ranked_phrases()[0:10]\n",
    "df['star_revised'] = df['stars'].apply(lambda x: star_revised_logic(x))\n",
    "##########################\n",
    "compression_opts = dict(method='zip', archive_name='out.csv')\n",
    "df.to_csv('0425.zip', index=False, compression=compression_opts)"
   ]
  },
  {
   "cell_type": "markdown",
   "metadata": {},
   "source": [
    "# word2vec"
   ]
  },
  {
   "cell_type": "markdown",
   "metadata": {},
   "source": [
    "### Params -\n",
    "1. size: The number of dimensions of the embeddings and the default is 100.\n",
    "2. window: The maximum distance between a target word and words around the target word. The default window is 5.\n",
    "3. min_count: The minimum count of words to consider when training the model; words with occurrence less than this count will be ignored. The default for min_count is 5.\n",
    "4. workers: The number of partitions during training and the default workers is 3.\n",
    "5. sg: The training algorithm, either CBOW(0) or skip gram(1). The default training algorithm is CBOW.\n"
   ]
  },
  {
   "cell_type": "markdown",
   "metadata": {},
   "source": [
    "### Getting word2vec model"
   ]
  },
  {
   "cell_type": "code",
   "execution_count": 2,
   "metadata": {},
   "outputs": [
    {
     "name": "stdout",
     "output_type": "stream",
     "text": [
      "Time taken to train word2vec model: 0.5043501853942871\n"
     ]
    }
   ],
   "source": [
    "from gensim.models import Word2Vec\n",
    "import time\n",
    "\n",
    "size = 100\n",
    "window = 3\n",
    "min_count = 1\n",
    "workers = 3\n",
    "sg = 1\n",
    "\n",
    "word2vec_model_file = 'word2vec' + str(size) + '.model'\n",
    "start_time = time.time()\n",
    "stemmed_tokens = df['tokenized_text_string'].str.split()\n",
    "w2v_model = Word2Vec(stemmed_tokens, min_count=min_count, size=size, workers = workers, window=window, sg=sg)\n",
    "print(\"Time taken to train word2vec model: \" + str(time.time() - start_time))\n",
    "w2v_model.save(word2vec_model_file)"
   ]
  },
  {
   "cell_type": "markdown",
   "metadata": {},
   "source": [
    "### Reload word2vec model"
   ]
  },
  {
   "cell_type": "code",
   "execution_count": 3,
   "metadata": {},
   "outputs": [
    {
     "name": "stdout",
     "output_type": "stream",
     "text": [
      "Index of the word 'food': \n",
      "4\n",
      "2023\n",
      "Length of the vector generated for a word\n",
      "100\n",
      "Print the length after taking average of all word vectors in a sentence:\n",
      "[ 7.9359282e-03 -1.6347413e-03 -1.0476384e-03  7.6740729e-03\n",
      " -3.3623604e-03 -1.6317959e-03 -5.1636659e-03 -5.0062621e-03\n",
      "  1.0712271e-03  5.4935734e-03  2.3654650e-03 -2.3675319e-03\n",
      " -3.0726084e-04  2.0927154e-03 -1.8430916e-03  8.2158030e-04\n",
      " -5.8790823e-03  7.4607111e-04  5.2704909e-03 -5.5219396e-03\n",
      " -2.9401504e-03  6.0420199e-03  1.4385673e-03  1.1921864e-03\n",
      "  2.4162787e-03 -3.7967751e-03 -5.2548652e-03 -3.3770683e-03\n",
      " -6.5771939e-04 -5.7264920e-03 -1.4074090e-03 -7.5838887e-03\n",
      " -4.1027218e-03 -8.3763682e-04  1.4167560e-03 -3.1605226e-03\n",
      "  5.7131723e-03 -1.5577336e-03  3.5226780e-03 -2.0072930e-03\n",
      " -3.7661747e-03  2.1296570e-03  9.6288045e-07  2.5317471e-03\n",
      " -2.7224957e-03 -3.6933930e-03 -1.2942123e-03  3.2137595e-03\n",
      " -1.8522376e-03 -4.3493593e-03 -4.3271121e-04  9.6427696e-03\n",
      " -1.3334079e-03  4.2522806e-03 -1.9908906e-03  3.5214081e-04\n",
      " -8.0345359e-05 -9.1464985e-03 -9.0633774e-05 -3.4458817e-03\n",
      "  1.5298340e-03 -3.7871934e-03 -1.6367142e-04 -3.7978773e-03\n",
      "  8.3890585e-03 -4.9933358e-03 -6.1001601e-03 -7.0284856e-03\n",
      "  3.7440518e-03  2.8973483e-04  2.2307173e-03 -5.8285170e-03\n",
      "  3.7837382e-03 -4.2955941e-03 -7.6824520e-04  2.6110942e-03\n",
      " -1.2128592e-03 -2.4705890e-04  2.8413956e-03  4.6734517e-03\n",
      " -7.8728381e-06  1.5917839e-04 -1.5648650e-03  2.0544499e-03\n",
      "  3.8831361e-04 -3.1118750e-04 -3.9634443e-04  4.1398061e-03\n",
      "  3.8876068e-03  1.4926440e-03  9.0339715e-03 -3.6735628e-03\n",
      "  5.5165053e-03 -5.4091220e-03  5.3199399e-03  2.3730088e-03\n",
      " -6.8723591e-04  5.2567422e-03  1.1551213e-03  7.5866911e-03]\n"
     ]
    },
    {
     "name": "stderr",
     "output_type": "stream",
     "text": [
      "<ipython-input-3-f6a6bf8d2ee2>:9: DeprecationWarning: Call to deprecated `__getitem__` (Method will be removed in 4.0.0, use self.wv.__getitem__() instead).\n",
      "  print(len(sg_w2v_model['food']))\n",
      "<ipython-input-3-f6a6bf8d2ee2>:11: DeprecationWarning: Call to deprecated `__getitem__` (Method will be removed in 4.0.0, use self.wv.__getitem__() instead).\n",
      "  print(np.mean([sg_w2v_model[token] for token in stemmed_tokens[0]], axis=0))\n"
     ]
    }
   ],
   "source": [
    "import numpy as np\n",
    "\n",
    "sg_w2v_model = Word2Vec.load(word2vec_model_file)\n",
    "\n",
    "print(\"Index of the word 'food': \")\n",
    "print(sg_w2v_model.wv.vocab[\"food\"].index)\n",
    "print(len(sg_w2v_model.wv.vocab))\n",
    "print(\"Length of the vector generated for a word\")\n",
    "print(len(sg_w2v_model['food']))\n",
    "print(\"Print the length after taking average of all word vectors in a sentence:\")\n",
    "print(np.mean([sg_w2v_model[token] for token in stemmed_tokens[0]], axis=0))"
   ]
  },
  {
   "cell_type": "markdown",
   "metadata": {},
   "source": [
    "### Vectorize all verses"
   ]
  },
  {
   "cell_type": "code",
   "execution_count": 5,
   "metadata": {
    "scrolled": false
   },
   "outputs": [
    {
     "name": "stderr",
     "output_type": "stream",
     "text": [
      "<ipython-input-5-7f88dc4e3f8e>:2: DeprecationWarning: Call to deprecated `__getitem__` (Method will be removed in 4.0.0, use self.wv.__getitem__() instead).\n",
      "  return np.mean([sg_w2v_model[token] for token in stem], axis=0)\n"
     ]
    }
   ],
   "source": [
    "def vecc(stem):\n",
    "    return np.mean([sg_w2v_model[token] for token in stem], axis=0)\n",
    "df['word2vec'] = df[\"tokenized_text\"].apply(vecc)"
   ]
  }
 ],
 "metadata": {
  "kernelspec": {
   "display_name": "Python 3",
   "language": "python",
   "name": "python3"
  },
  "language_info": {
   "codemirror_mode": {
    "name": "ipython",
    "version": 3
   },
   "file_extension": ".py",
   "mimetype": "text/x-python",
   "name": "python",
   "nbconvert_exporter": "python",
   "pygments_lexer": "ipython3",
   "version": "3.8.5"
  }
 },
 "nbformat": 4,
 "nbformat_minor": 4
}

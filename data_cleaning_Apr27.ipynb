{
 "cells": [
  {
   "cell_type": "markdown",
   "metadata": {},
   "source": [
    "# Data Preprocessing"
   ]
  },
  {
   "cell_type": "code",
   "execution_count": 1,
   "metadata": {},
   "outputs": [
    {
     "name": "stderr",
     "output_type": "stream",
     "text": [
      "[nltk_data] Error loading stopwords: <urlopen error [Errno 61]\n",
      "[nltk_data]     Connection refused>\n",
      "[nltk_data] Error loading wordnet: <urlopen error [Errno 61]\n",
      "[nltk_data]     Connection refused>\n"
     ]
    }
   ],
   "source": [
    "import nltk\n",
    "import csv\n",
    "import ssl ## workaround for my specific authorization issue\n",
    "import pandas as pd\n",
    "from nltk.corpus import stopwords\n",
    "from nltk.tokenize import word_tokenize\n",
    "from nltk.stem.wordnet import WordNetLemmatizer\n",
    "from nltk.stem.porter import PorterStemmer\n",
    "\n",
    "try:\n",
    "    _create_unverified_https_context = ssl._create_unverified_context\n",
    "except AttributeError:\n",
    "    pass\n",
    "else:\n",
    "    ssl._create_default_https_context = _create_unverified_https_context\n",
    "\n",
    "DATA_PATH = 'out.csv'\n",
    "nltk.download('stopwords')\n",
    "nltk.download('wordnet')\n",
    "\n",
    "df = pd.read_csv(DATA_PATH)\n",
    "####### FOR TESTING ONLY ###########\n",
    "#df = df.head(100)\n",
    "\n",
    "####### DROP USELESS COLUMNS  ###########\n",
    "df = df.drop('review_id', axis=1)\n",
    "df = df.drop('business_id', axis=1)\n",
    "df = df.drop('funny', axis=1)\n",
    "df = df.drop('cool', axis=1)\n",
    "df = df.drop('date', axis=1)"
   ]
  },
  {
   "cell_type": "markdown",
   "metadata": {},
   "source": [
    "### NEGATION HANDLING"
   ]
  },
  {
   "cell_type": "code",
   "execution_count": 2,
   "metadata": {
    "scrolled": true
   },
   "outputs": [],
   "source": [
    "from nltk.util import pairwise\n",
    "NEGATE = {\n",
    "        \"aint\",\n",
    "        \"arent\",\n",
    "        \"cannot\",\n",
    "        \"cant\",\n",
    "        \"couldnt\",\n",
    "        \"darent\",\n",
    "        \"didnt\",\n",
    "        \"doesnt\",\n",
    "        \"ain't\",\n",
    "        \"aren't\",\n",
    "        \"can't\",\n",
    "        \"couldn't\",\n",
    "        \"daren't\",\n",
    "        \"didn't\",\n",
    "        \"doesn't\",\n",
    "        \"dont\",\n",
    "        \"hadnt\",\n",
    "        \"hasnt\",\n",
    "        \"havent\",\n",
    "        \"isnt\",\n",
    "        \"mightnt\",\n",
    "        \"mustnt\",\n",
    "        \"neither\",\n",
    "        \"don't\",\n",
    "        \"hadn't\",\n",
    "        \"hasn't\",\n",
    "        \"haven't\",\n",
    "        \"isn't\",\n",
    "        \"mightn't\",\n",
    "        \"mustn't\",\n",
    "        \"neednt\",\n",
    "        \"needn't\",\n",
    "        \"never\",\n",
    "        \"none\",\n",
    "        \"nope\",\n",
    "        \"nor\",\n",
    "        \"not\",\n",
    "        \"nothing\",\n",
    "        \"nowhere\",\n",
    "        \"oughtnt\",\n",
    "        \"shant\",\n",
    "        \"shouldnt\",\n",
    "        \"uhuh\",\n",
    "        \"wasnt\",\n",
    "        \"werent\",\n",
    "        \"oughtn't\",\n",
    "        \"shan't\",\n",
    "        \"shouldn't\",\n",
    "        \"uh-uh\",\n",
    "        \"wasn't\",\n",
    "        \"weren't\",\n",
    "        \"without\",\n",
    "        \"wont\",\n",
    "        \"wouldnt\",\n",
    "        \"won't\",\n",
    "        \"wouldn't\",\n",
    "        \"rarely\",\n",
    "        \"seldom\",\n",
    "        \"despite\",\n",
    "    }\n",
    "\n",
    "def negated(word, include_nt=True):\n",
    "    \"\"\"\n",
    "    Determine if input contains negation words\n",
    "    \"\"\"\n",
    "    neg_words = NEGATE\n",
    "    if word.lower() in neg_words:\n",
    "        return True\n",
    "    if include_nt:\n",
    "        if \"n't\" in word.lower():\n",
    "            return True\n",
    "    return False\n",
    "\n",
    "\n",
    "def toNegate(stri):\n",
    "    tt = stri.split(\" \")\n",
    "    for i in range(len(tt)-1):\n",
    "        tt[i]=tt[i].lower()\n",
    "        if negated(tt[i]):\n",
    "            tt[i+1] = '!' + tt[i+1]\n",
    "    return tt\n",
    "\n",
    "def join(stri):\n",
    "    tt = \"\"\n",
    "    for item in stri:\n",
    "        tt += item + \" \"\n",
    "    return tt\n",
    "\n",
    "df['text_negated'] = df[\"text\"].apply(toNegate)\n",
    "df['text_negated'] = df[\"text_negated\"].apply(join)\n",
    "df = df.drop('text', axis=1) ## SAVE SPACE BY DROPPING THIS COLUMN."
   ]
  },
  {
   "cell_type": "code",
   "execution_count": 3,
   "metadata": {},
   "outputs": [
    {
     "name": "stderr",
     "output_type": "stream",
     "text": [
      "[nltk_data] Downloading package vader_lexicon to\n",
      "[nltk_data]     /Users/diwang/nltk_data...\n",
      "[nltk_data]   Package vader_lexicon is already up-to-date!\n"
     ]
    }
   ],
   "source": [
    "####### TOKENIZATION  #########\n",
    "df['tokenized_text'] = df['text_negated'].apply(word_tokenize)\n",
    "####### STOPWORDS REMOVAL  ###########\n",
    "stop = stopwords.words('english')\n",
    "df['tokenized_text'] = df['tokenized_text'].apply(lambda x: [item for item in x if item not in stop])\n",
    "####### PUNCTUATION REMOVAL ###########\n",
    "import string\n",
    "df['tokenized_text'] = df['tokenized_text'].apply(lambda x: [item for item in x if item not in string.punctuation])\n",
    "####### STEMMING  ###########\n",
    "stemmer = PorterStemmer()\n",
    "df['tokenized_text'] = df['tokenized_text'].apply(lambda x: [stemmer.stem(y) for y in x])\n",
    "####### Lemmatizating  ###########\n",
    "lmtzr = WordNetLemmatizer()\n",
    "df['tokenized_text'] = df['tokenized_text'].apply(lambda x: [lmtzr.lemmatize(y) for y in x])\n",
    "######## LISTS JOIN AS SINGLE STRING ############\n",
    "df['tokenized_text_string'] = [' '.join(map(str, l)) for l in df['tokenized_text']]\n",
    "##0# POLARITY ###\n",
    "from nltk.sentiment.vader import SentimentIntensityAnalyzer\n",
    "nltk.download('vader_lexicon')\n",
    "analyzer = SentimentIntensityAnalyzer()\n",
    "df['compound'] = [analyzer.polarity_scores(x)['compound'] for x in df['tokenized_text_string']]\n",
    "df['neg'] = [analyzer.polarity_scores(x)['neg'] for x in df['tokenized_text_string']]\n",
    "df['neu'] = [analyzer.polarity_scores(x)['neu'] for x in df['tokenized_text_string']]\n",
    "df['pos'] = [analyzer.polarity_scores(x)['pos'] for x in df['tokenized_text_string']]\n",
    "##########################\n",
    "from rake_nltk import Rake\n",
    "def star_revised_logic(x):\n",
    "    if x == 3:\n",
    "        return 0\n",
    "    elif x>3:\n",
    "        return 1\n",
    "    else:\n",
    "        return -1\n",
    "r = Rake()\n",
    "r.extract_keywords_from_text(df['tokenized_text_string'][0])\n",
    "structure = r.get_ranked_phrases()[0:10]\n",
    "df['star_revised'] = df['stars'].apply(lambda x: star_revised_logic(x))\n",
    "##########################"
   ]
  },
  {
   "cell_type": "markdown",
   "metadata": {},
   "source": [
    "# word2vec"
   ]
  },
  {
   "cell_type": "markdown",
   "metadata": {},
   "source": [
    "### Params -\n",
    "1. size: The number of dimensions of the embeddings and the default is 100.\n",
    "2. window: The maximum distance between a target word and words around the target word. The default window is 5.\n",
    "3. min_count: The minimum count of words to consider when training the model; words with occurrence less than this count will be ignored. The default for min_count is 5.\n",
    "4. workers: The number of partitions during training and the default workers is 3.\n",
    "5. sg: The training algorithm, either CBOW(0) or skip gram(1). The default training algorithm is CBOW.\n"
   ]
  },
  {
   "cell_type": "markdown",
   "metadata": {},
   "source": [
    "### Getting word2vec model"
   ]
  },
  {
   "cell_type": "code",
   "execution_count": 4,
   "metadata": {},
   "outputs": [
    {
     "name": "stdout",
     "output_type": "stream",
     "text": [
      "Time taken to train word2vec model: 61.65305757522583\n"
     ]
    }
   ],
   "source": [
    "from gensim.models import Word2Vec\n",
    "import time\n",
    "\n",
    "size = 100\n",
    "window = 3\n",
    "min_count = 1\n",
    "workers = 3\n",
    "sg = 0\n",
    "\n",
    "word2vec_model_file = 'word2vec' + str(size) + '.model'\n",
    "start_time = time.time()\n",
    "stemmed_tokens = df['tokenized_text_string'].str.split()\n",
    "w2v_model = Word2Vec(stemmed_tokens, min_count=min_count, size=size, workers = workers, window=window, sg=sg)\n",
    "print(\"Time taken to train word2vec model: \" + str(time.time() - start_time))\n",
    "w2v_model.save(word2vec_model_file)"
   ]
  },
  {
   "cell_type": "markdown",
   "metadata": {},
   "source": [
    "### Reload word2vec model"
   ]
  },
  {
   "cell_type": "code",
   "execution_count": 3,
   "metadata": {},
   "outputs": [
    {
     "name": "stdout",
     "output_type": "stream",
     "text": [
      "Index of the word 'food': \n",
      "3\n",
      "126515\n",
      "Length of the vector generated for a word\n",
      "100\n",
      "Print the length after taking average of all word vectors in a sentence:\n",
      "[-0.22678614 -0.2897635  -0.32459044  0.15575048 -0.38304508 -0.1541775\n",
      "  0.36523107  0.06684726  0.12628984  0.00530223  0.5027002   0.3054193\n",
      "  0.01242023  0.02354489 -0.14487053 -0.1689697  -0.1280526  -0.2797667\n",
      "  0.46458685 -0.10119892  0.14930712  0.14399776 -0.40607435  0.03560648\n",
      "  0.03004741  0.0279792  -0.17510611 -0.28204522  0.07279837 -0.02034456\n",
      "  0.20961498 -0.1175883  -0.02026132  0.02836462  0.12384608  0.06297066\n",
      " -0.38680604 -0.09468395  0.02825443 -0.15541245  0.14202408  0.09927452\n",
      "  0.38493225 -0.38259593  0.30376422 -0.06327409 -0.1925044   0.22711995\n",
      "  0.19274372  0.19146255  0.08326176  0.23516697 -0.31119418  0.02592788\n",
      " -0.43836656 -0.16568975 -0.23031999 -0.15469138 -0.09247862 -0.17795675\n",
      "  0.07299511  0.06540577  0.18265754  0.49318033 -0.18133762  0.3161753\n",
      " -0.12969163 -0.14465114  0.31130642  0.10141403 -0.43924928 -0.01296252\n",
      " -0.03295527 -0.32594636  0.15731008  0.06686249 -0.38570598  0.15548824\n",
      "  0.19783884 -0.2605534   0.24533333  0.14926904 -0.11698793  0.04019592\n",
      "  0.02769079 -0.16000551 -0.1266481   0.34033796  0.11304776  0.03799225\n",
      "  0.27220407 -0.32295987  0.08296386 -0.11886691  0.35871962 -0.30523157\n",
      " -0.15753403  0.14974956  0.2165613  -0.12041987]\n"
     ]
    },
    {
     "name": "stderr",
     "output_type": "stream",
     "text": [
      "<ipython-input-3-f6a6bf8d2ee2>:9: DeprecationWarning: Call to deprecated `__getitem__` (Method will be removed in 4.0.0, use self.wv.__getitem__() instead).\n",
      "  print(len(sg_w2v_model['food']))\n",
      "<ipython-input-3-f6a6bf8d2ee2>:11: DeprecationWarning: Call to deprecated `__getitem__` (Method will be removed in 4.0.0, use self.wv.__getitem__() instead).\n",
      "  print(np.mean([sg_w2v_model[token] for token in stemmed_tokens[0]], axis=0))\n"
     ]
    }
   ],
   "source": [
    "import numpy as np\n",
    "\n",
    "sg_w2v_model = Word2Vec.load(word2vec_model_file)\n",
    "\n",
    "print(\"Index of the word 'food': \")\n",
    "print(sg_w2v_model.wv.vocab[\"food\"].index)\n",
    "print(len(sg_w2v_model.wv.vocab))\n",
    "print(\"Length of the vector generated for a word\")\n",
    "print(len(sg_w2v_model['food']))\n",
    "print(\"Print the length after taking average of all word vectors in a sentence:\")\n",
    "print(np.mean([sg_w2v_model[token] for token in stemmed_tokens[0]], axis=0))"
   ]
  },
  {
   "cell_type": "markdown",
   "metadata": {},
   "source": [
    "### Vectorize all verses"
   ]
  },
  {
   "cell_type": "code",
   "execution_count": 4,
   "metadata": {
    "scrolled": true
   },
   "outputs": [
    {
     "name": "stderr",
     "output_type": "stream",
     "text": [
      "<ipython-input-4-7f88dc4e3f8e>:2: DeprecationWarning: Call to deprecated `__getitem__` (Method will be removed in 4.0.0, use self.wv.__getitem__() instead).\n",
      "  return np.mean([sg_w2v_model[token] for token in stem], axis=0)\n"
     ]
    }
   ],
   "source": [
    "def vecc(stem):\n",
    "    return np.mean([sg_w2v_model[token] for token in stem], axis=0)\n",
    "df['word2vec'] = df[\"tokenized_text\"].apply(vecc)"
   ]
  },
  {
   "cell_type": "code",
   "execution_count": 5,
   "metadata": {},
   "outputs": [],
   "source": [
    "compression_opts = dict(method='zip', archive_name='out.csv')\n",
    "df.to_csv('0426.zip', index=False, compression=compression_opts)"
   ]
  }
 ],
 "metadata": {
  "kernelspec": {
   "display_name": "Python 3",
   "language": "python",
   "name": "python3"
  },
  "language_info": {
   "codemirror_mode": {
    "name": "ipython",
    "version": 3
   },
   "file_extension": ".py",
   "mimetype": "text/x-python",
   "name": "python",
   "nbconvert_exporter": "python",
   "pygments_lexer": "ipython3",
   "version": "3.8.5"
  }
 },
 "nbformat": 4,
 "nbformat_minor": 4
}

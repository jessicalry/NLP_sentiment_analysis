{
 "cells": [
  {
   "cell_type": "code",
   "execution_count": 2,
   "metadata": {},
   "outputs": [],
   "source": [
    "import pandas as pd\n",
    "import numpy as np\n",
    "import random \n",
    "import matplotlib.pyplot as plt"
   ]
  },
  {
   "cell_type": "code",
   "execution_count": 28,
   "metadata": {},
   "outputs": [],
   "source": [
    "import nltk"
   ]
  },
  {
   "cell_type": "code",
   "execution_count": 9,
   "metadata": {
    "scrolled": true
   },
   "outputs": [],
   "source": [
    "# df = pd.read_json(\"review.json\")\n",
    "\n",
    "df = pd.read_json(\"review.json\", lines=True)"
   ]
  },
  {
   "cell_type": "code",
   "execution_count": 10,
   "metadata": {},
   "outputs": [
    {
     "data": {
      "text/plain": [
       "200000"
      ]
     },
     "execution_count": 10,
     "metadata": {},
     "output_type": "execute_result"
    }
   ],
   "source": [
    "len(df)"
   ]
  },
  {
   "cell_type": "code",
   "execution_count": 12,
   "metadata": {},
   "outputs": [],
   "source": [
    "df_sample_50 = df.sample(frac = 0.5)"
   ]
  },
  {
   "cell_type": "code",
   "execution_count": 14,
   "metadata": {},
   "outputs": [
    {
     "data": {
      "text/html": [
       "<div>\n",
       "<style scoped>\n",
       "    .dataframe tbody tr th:only-of-type {\n",
       "        vertical-align: middle;\n",
       "    }\n",
       "\n",
       "    .dataframe tbody tr th {\n",
       "        vertical-align: top;\n",
       "    }\n",
       "\n",
       "    .dataframe thead th {\n",
       "        text-align: right;\n",
       "    }\n",
       "</style>\n",
       "<table border=\"1\" class=\"dataframe\">\n",
       "  <thead>\n",
       "    <tr style=\"text-align: right;\">\n",
       "      <th></th>\n",
       "      <th>stars</th>\n",
       "      <th>text</th>\n",
       "      <th>useful</th>\n",
       "    </tr>\n",
       "  </thead>\n",
       "  <tbody>\n",
       "    <tr>\n",
       "      <th>3554</th>\n",
       "      <td>5</td>\n",
       "      <td>This was my first time and I wish I could give...</td>\n",
       "      <td>1</td>\n",
       "    </tr>\n",
       "    <tr>\n",
       "      <th>82799</th>\n",
       "      <td>5</td>\n",
       "      <td>I LOVE this Half Price Books location.  They d...</td>\n",
       "      <td>2</td>\n",
       "    </tr>\n",
       "    <tr>\n",
       "      <th>79355</th>\n",
       "      <td>4</td>\n",
       "      <td>I am a big fan of restaurants who will warmly ...</td>\n",
       "      <td>3</td>\n",
       "    </tr>\n",
       "    <tr>\n",
       "      <th>58650</th>\n",
       "      <td>4</td>\n",
       "      <td>Just had Sunday brunch at Soleil. It was terri...</td>\n",
       "      <td>1</td>\n",
       "    </tr>\n",
       "    <tr>\n",
       "      <th>182254</th>\n",
       "      <td>1</td>\n",
       "      <td>We usually sacrifice the terrible service for ...</td>\n",
       "      <td>6</td>\n",
       "    </tr>\n",
       "    <tr>\n",
       "      <th>...</th>\n",
       "      <td>...</td>\n",
       "      <td>...</td>\n",
       "      <td>...</td>\n",
       "    </tr>\n",
       "    <tr>\n",
       "      <th>47577</th>\n",
       "      <td>4</td>\n",
       "      <td>I've mostly been to happy hour so keep in mind...</td>\n",
       "      <td>1</td>\n",
       "    </tr>\n",
       "    <tr>\n",
       "      <th>99733</th>\n",
       "      <td>2</td>\n",
       "      <td>Rolling bones is alright. Their beef is a lot ...</td>\n",
       "      <td>1</td>\n",
       "    </tr>\n",
       "    <tr>\n",
       "      <th>41295</th>\n",
       "      <td>3</td>\n",
       "      <td>I love the décor and how different this place ...</td>\n",
       "      <td>0</td>\n",
       "    </tr>\n",
       "    <tr>\n",
       "      <th>152630</th>\n",
       "      <td>4</td>\n",
       "      <td>Love the Geoduck and the service is fast, they...</td>\n",
       "      <td>0</td>\n",
       "    </tr>\n",
       "    <tr>\n",
       "      <th>158480</th>\n",
       "      <td>4</td>\n",
       "      <td>It is always nice to eat at Obama.  I went the...</td>\n",
       "      <td>0</td>\n",
       "    </tr>\n",
       "  </tbody>\n",
       "</table>\n",
       "<p>100000 rows × 3 columns</p>\n",
       "</div>"
      ],
      "text/plain": [
       "        stars                                               text  useful\n",
       "3554        5  This was my first time and I wish I could give...       1\n",
       "82799       5  I LOVE this Half Price Books location.  They d...       2\n",
       "79355       4  I am a big fan of restaurants who will warmly ...       3\n",
       "58650       4  Just had Sunday brunch at Soleil. It was terri...       1\n",
       "182254      1  We usually sacrifice the terrible service for ...       6\n",
       "...       ...                                                ...     ...\n",
       "47577       4  I've mostly been to happy hour so keep in mind...       1\n",
       "99733       2  Rolling bones is alright. Their beef is a lot ...       1\n",
       "41295       3  I love the décor and how different this place ...       0\n",
       "152630      4  Love the Geoduck and the service is fast, they...       0\n",
       "158480      4  It is always nice to eat at Obama.  I went the...       0\n",
       "\n",
       "[100000 rows x 3 columns]"
      ]
     },
     "execution_count": 14,
     "metadata": {},
     "output_type": "execute_result"
    }
   ],
   "source": [
    "# yelp = df_sample_10[[\"review_id\", \"stars\", \"date\", \"text\", \"useful\"]]\n",
    "yelp = df_sample_50[[\"stars\", \"text\", \"useful\"]]\n",
    "yelp"
   ]
  },
  {
   "cell_type": "code",
   "execution_count": 16,
   "metadata": {},
   "outputs": [
    {
     "data": {
      "text/plain": [
       "6930"
      ]
     },
     "execution_count": 16,
     "metadata": {},
     "output_type": "execute_result"
    }
   ],
   "source": [
    "useful_review = yelp[yelp[\"useful\"] >= 4]\n",
    "len(useful_review)"
   ]
  },
  {
   "cell_type": "code",
   "execution_count": null,
   "metadata": {},
   "outputs": [],
   "source": [
    "useful_review"
   ]
  },
  {
   "cell_type": "code",
   "execution_count": 20,
   "metadata": {},
   "outputs": [
    {
     "data": {
      "text/plain": [
       "stars\n",
       "1    11797\n",
       "2     8590\n",
       "3    12149\n",
       "4    25626\n",
       "5    41838\n",
       "dtype: int64"
      ]
     },
     "execution_count": 20,
     "metadata": {},
     "output_type": "execute_result"
    }
   ],
   "source": [
    "grouped = yelp.groupby(by = \"stars\").size()\n",
    "grouped"
   ]
  },
  {
   "cell_type": "markdown",
   "metadata": {},
   "source": [
    "## Save as a zip file that contains out.csv"
   ]
  },
  {
   "cell_type": "code",
   "execution_count": 18,
   "metadata": {},
   "outputs": [],
   "source": [
    "compression_opts = dict(method='zip', archive_name='out.csv')  \n",
    "\n",
    "df.to_csv('out.zip', index=False, compression=compression_opts)"
   ]
  },
  {
   "cell_type": "markdown",
   "metadata": {},
   "source": [
    "## Convert notebook to py file"
   ]
  },
  {
   "cell_type": "code",
   "execution_count": 5,
   "metadata": {},
   "outputs": [
    {
     "name": "stdout",
     "output_type": "stream",
     "text": [
      "[NbConvertApp] Converting notebook Data_Overview.ipynb to script\n",
      "[NbConvertApp] Writing 1006 bytes to Data_Overview.py\n"
     ]
    }
   ],
   "source": [
    "!jupyter nbconvert --to script Data_Overview.ipynb"
   ]
  },
  {
   "cell_type": "code",
   "execution_count": 22,
   "metadata": {},
   "outputs": [
    {
     "data": {
      "text/html": [
       "<div>\n",
       "<style scoped>\n",
       "    .dataframe tbody tr th:only-of-type {\n",
       "        vertical-align: middle;\n",
       "    }\n",
       "\n",
       "    .dataframe tbody tr th {\n",
       "        vertical-align: top;\n",
       "    }\n",
       "\n",
       "    .dataframe thead th {\n",
       "        text-align: right;\n",
       "    }\n",
       "</style>\n",
       "<table border=\"1\" class=\"dataframe\">\n",
       "  <thead>\n",
       "    <tr style=\"text-align: right;\">\n",
       "      <th></th>\n",
       "      <th>review_id</th>\n",
       "      <th>user_id</th>\n",
       "      <th>business_id</th>\n",
       "      <th>stars</th>\n",
       "      <th>useful</th>\n",
       "      <th>funny</th>\n",
       "      <th>cool</th>\n",
       "      <th>text</th>\n",
       "      <th>date</th>\n",
       "    </tr>\n",
       "  </thead>\n",
       "  <tbody>\n",
       "    <tr>\n",
       "      <th>0</th>\n",
       "      <td>lWC-xP3rd6obsecCYsGZRg</td>\n",
       "      <td>ak0TdVmGKo4pwqdJSTLwWw</td>\n",
       "      <td>buF9druCkbuXLX526sGELQ</td>\n",
       "      <td>4</td>\n",
       "      <td>3</td>\n",
       "      <td>1</td>\n",
       "      <td>1</td>\n",
       "      <td>Apparently Prides Osteria had a rough summer a...</td>\n",
       "      <td>2014-10-11 03:34:02</td>\n",
       "    </tr>\n",
       "    <tr>\n",
       "      <th>1</th>\n",
       "      <td>8bFej1QE5LXp4O05qjGqXA</td>\n",
       "      <td>YoVfDbnISlW0f7abNQACIg</td>\n",
       "      <td>RA4V8pr014UyUbDvI-LW2A</td>\n",
       "      <td>4</td>\n",
       "      <td>1</td>\n",
       "      <td>0</td>\n",
       "      <td>0</td>\n",
       "      <td>This store is pretty good. Not as great as Wal...</td>\n",
       "      <td>2015-07-03 20:38:25</td>\n",
       "    </tr>\n",
       "    <tr>\n",
       "      <th>2</th>\n",
       "      <td>NDhkzczKjLshODbqDoNLSg</td>\n",
       "      <td>eC5evKn1TWDyHCyQAwguUw</td>\n",
       "      <td>_sS2LBIGNT5NQb6PD1Vtjw</td>\n",
       "      <td>5</td>\n",
       "      <td>0</td>\n",
       "      <td>0</td>\n",
       "      <td>0</td>\n",
       "      <td>I called WVM on the recommendation of a couple...</td>\n",
       "      <td>2013-05-28 20:38:06</td>\n",
       "    </tr>\n",
       "    <tr>\n",
       "      <th>3</th>\n",
       "      <td>T5fAqjjFooT4V0OeZyuk1w</td>\n",
       "      <td>SFQ1jcnGguO0LYWnbbftAA</td>\n",
       "      <td>0AzLzHfOJgL7ROwhdww2ew</td>\n",
       "      <td>2</td>\n",
       "      <td>1</td>\n",
       "      <td>1</td>\n",
       "      <td>1</td>\n",
       "      <td>I've stayed at many Marriott and Renaissance M...</td>\n",
       "      <td>2010-01-08 02:29:15</td>\n",
       "    </tr>\n",
       "    <tr>\n",
       "      <th>4</th>\n",
       "      <td>sjm_uUcQVxab_EeLCqsYLg</td>\n",
       "      <td>0kA0PAJ8QFMeveQWHFqz2A</td>\n",
       "      <td>8zehGz9jnxPqXtOc7KaJxA</td>\n",
       "      <td>4</td>\n",
       "      <td>0</td>\n",
       "      <td>0</td>\n",
       "      <td>0</td>\n",
       "      <td>The food is always great here. The service fro...</td>\n",
       "      <td>2011-07-28 18:05:01</td>\n",
       "    </tr>\n",
       "    <tr>\n",
       "      <th>...</th>\n",
       "      <td>...</td>\n",
       "      <td>...</td>\n",
       "      <td>...</td>\n",
       "      <td>...</td>\n",
       "      <td>...</td>\n",
       "      <td>...</td>\n",
       "      <td>...</td>\n",
       "      <td>...</td>\n",
       "      <td>...</td>\n",
       "    </tr>\n",
       "    <tr>\n",
       "      <th>199995</th>\n",
       "      <td>QZG0ulHZZy5p1iuK-jcAdQ</td>\n",
       "      <td>RiNdQ_Jwi9fooifC4u_X4Q</td>\n",
       "      <td>ob0T61uPgaKgfJbztLQQXA</td>\n",
       "      <td>1</td>\n",
       "      <td>0</td>\n",
       "      <td>0</td>\n",
       "      <td>0</td>\n",
       "      <td>****BUYER BEWARE****\\n\\nPurchased a voucher th...</td>\n",
       "      <td>2016-01-21 23:40:23</td>\n",
       "    </tr>\n",
       "    <tr>\n",
       "      <th>199996</th>\n",
       "      <td>TG0Uuh8YpsY1b7Iv801MsA</td>\n",
       "      <td>KxelCZRC99hjRSRy1Mj6jg</td>\n",
       "      <td>PQ4vdBi1fBKP3fjyNqCv6w</td>\n",
       "      <td>3</td>\n",
       "      <td>2</td>\n",
       "      <td>7</td>\n",
       "      <td>0</td>\n",
       "      <td>Well, I was going out to breakfast on Sunday m...</td>\n",
       "      <td>2008-06-16 20:13:06</td>\n",
       "    </tr>\n",
       "    <tr>\n",
       "      <th>199997</th>\n",
       "      <td>aDHIx2MzorNwX7-WPrkPlw</td>\n",
       "      <td>OA9R0XlzvJqbDC2IQFMGdQ</td>\n",
       "      <td>e56Itu8AwOurYx1pQxdd8A</td>\n",
       "      <td>3</td>\n",
       "      <td>0</td>\n",
       "      <td>0</td>\n",
       "      <td>0</td>\n",
       "      <td>Visited here during vacation. Okay for a quick...</td>\n",
       "      <td>2017-01-08 11:32:59</td>\n",
       "    </tr>\n",
       "    <tr>\n",
       "      <th>199998</th>\n",
       "      <td>G81yd_Dg-dOTFrPR966Vqg</td>\n",
       "      <td>SqOimsoafaCiu7EJRCDUBw</td>\n",
       "      <td>W3T6koisAcVVLIf2jyN3WA</td>\n",
       "      <td>5</td>\n",
       "      <td>0</td>\n",
       "      <td>0</td>\n",
       "      <td>0</td>\n",
       "      <td>Excellent flavors and so convenient to the min...</td>\n",
       "      <td>2016-08-08 00:09:50</td>\n",
       "    </tr>\n",
       "    <tr>\n",
       "      <th>199999</th>\n",
       "      <td>tvJn-Yam4xyxWVrWVMXDzQ</td>\n",
       "      <td>CX3mLQGtrm5oHdcsYClOpA</td>\n",
       "      <td>0iNY6i9retew_ipzjxM_vw</td>\n",
       "      <td>5</td>\n",
       "      <td>1</td>\n",
       "      <td>0</td>\n",
       "      <td>0</td>\n",
       "      <td>On The Fly is the best vegan carryout in Colum...</td>\n",
       "      <td>2009-01-10 17:06:52</td>\n",
       "    </tr>\n",
       "  </tbody>\n",
       "</table>\n",
       "<p>200000 rows × 9 columns</p>\n",
       "</div>"
      ],
      "text/plain": [
       "                     review_id                 user_id  \\\n",
       "0       lWC-xP3rd6obsecCYsGZRg  ak0TdVmGKo4pwqdJSTLwWw   \n",
       "1       8bFej1QE5LXp4O05qjGqXA  YoVfDbnISlW0f7abNQACIg   \n",
       "2       NDhkzczKjLshODbqDoNLSg  eC5evKn1TWDyHCyQAwguUw   \n",
       "3       T5fAqjjFooT4V0OeZyuk1w  SFQ1jcnGguO0LYWnbbftAA   \n",
       "4       sjm_uUcQVxab_EeLCqsYLg  0kA0PAJ8QFMeveQWHFqz2A   \n",
       "...                        ...                     ...   \n",
       "199995  QZG0ulHZZy5p1iuK-jcAdQ  RiNdQ_Jwi9fooifC4u_X4Q   \n",
       "199996  TG0Uuh8YpsY1b7Iv801MsA  KxelCZRC99hjRSRy1Mj6jg   \n",
       "199997  aDHIx2MzorNwX7-WPrkPlw  OA9R0XlzvJqbDC2IQFMGdQ   \n",
       "199998  G81yd_Dg-dOTFrPR966Vqg  SqOimsoafaCiu7EJRCDUBw   \n",
       "199999  tvJn-Yam4xyxWVrWVMXDzQ  CX3mLQGtrm5oHdcsYClOpA   \n",
       "\n",
       "                   business_id  stars  useful  funny  cool  \\\n",
       "0       buF9druCkbuXLX526sGELQ      4       3      1     1   \n",
       "1       RA4V8pr014UyUbDvI-LW2A      4       1      0     0   \n",
       "2       _sS2LBIGNT5NQb6PD1Vtjw      5       0      0     0   \n",
       "3       0AzLzHfOJgL7ROwhdww2ew      2       1      1     1   \n",
       "4       8zehGz9jnxPqXtOc7KaJxA      4       0      0     0   \n",
       "...                        ...    ...     ...    ...   ...   \n",
       "199995  ob0T61uPgaKgfJbztLQQXA      1       0      0     0   \n",
       "199996  PQ4vdBi1fBKP3fjyNqCv6w      3       2      7     0   \n",
       "199997  e56Itu8AwOurYx1pQxdd8A      3       0      0     0   \n",
       "199998  W3T6koisAcVVLIf2jyN3WA      5       0      0     0   \n",
       "199999  0iNY6i9retew_ipzjxM_vw      5       1      0     0   \n",
       "\n",
       "                                                     text                date  \n",
       "0       Apparently Prides Osteria had a rough summer a... 2014-10-11 03:34:02  \n",
       "1       This store is pretty good. Not as great as Wal... 2015-07-03 20:38:25  \n",
       "2       I called WVM on the recommendation of a couple... 2013-05-28 20:38:06  \n",
       "3       I've stayed at many Marriott and Renaissance M... 2010-01-08 02:29:15  \n",
       "4       The food is always great here. The service fro... 2011-07-28 18:05:01  \n",
       "...                                                   ...                 ...  \n",
       "199995  ****BUYER BEWARE****\\n\\nPurchased a voucher th... 2016-01-21 23:40:23  \n",
       "199996  Well, I was going out to breakfast on Sunday m... 2008-06-16 20:13:06  \n",
       "199997  Visited here during vacation. Okay for a quick... 2017-01-08 11:32:59  \n",
       "199998  Excellent flavors and so convenient to the min... 2016-08-08 00:09:50  \n",
       "199999  On The Fly is the best vegan carryout in Colum... 2009-01-10 17:06:52  \n",
       "\n",
       "[200000 rows x 9 columns]"
      ]
     },
     "execution_count": 22,
     "metadata": {},
     "output_type": "execute_result"
    }
   ],
   "source": [
    "df"
   ]
  },
  {
   "cell_type": "code",
   "execution_count": 31,
   "metadata": {},
   "outputs": [],
   "source": [
    "df_1 = df"
   ]
  },
  {
   "cell_type": "code",
   "execution_count": 33,
   "metadata": {},
   "outputs": [
    {
     "data": {
      "text/html": [
       "<div>\n",
       "<style scoped>\n",
       "    .dataframe tbody tr th:only-of-type {\n",
       "        vertical-align: middle;\n",
       "    }\n",
       "\n",
       "    .dataframe tbody tr th {\n",
       "        vertical-align: top;\n",
       "    }\n",
       "\n",
       "    .dataframe thead th {\n",
       "        text-align: right;\n",
       "    }\n",
       "</style>\n",
       "<table border=\"1\" class=\"dataframe\">\n",
       "  <thead>\n",
       "    <tr style=\"text-align: right;\">\n",
       "      <th></th>\n",
       "      <th>review_id</th>\n",
       "      <th>user_id</th>\n",
       "      <th>business_id</th>\n",
       "      <th>stars</th>\n",
       "      <th>useful</th>\n",
       "      <th>funny</th>\n",
       "      <th>cool</th>\n",
       "      <th>text</th>\n",
       "      <th>date</th>\n",
       "      <th>split</th>\n",
       "    </tr>\n",
       "  </thead>\n",
       "  <tbody>\n",
       "  </tbody>\n",
       "</table>\n",
       "</div>"
      ],
      "text/plain": [
       "Empty DataFrame\n",
       "Columns: [review_id, user_id, business_id, stars, useful, funny, cool, text, date, split]\n",
       "Index: []"
      ]
     },
     "execution_count": 33,
     "metadata": {},
     "output_type": "execute_result"
    }
   ],
   "source": [
    "\n",
    "df_1[df_1[\"text\"]==\"\"]\n",
    "\n",
    "# text = nltk.word_tokenize()\n",
    "# text = nltk.pos_tag(text)"
   ]
  },
  {
   "cell_type": "code",
   "execution_count": null,
   "metadata": {},
   "outputs": [],
   "source": []
  }
 ],
 "metadata": {
  "kernelspec": {
   "display_name": "Python 3",
   "language": "python",
   "name": "python3"
  },
  "language_info": {
   "codemirror_mode": {
    "name": "ipython",
    "version": 3
   },
   "file_extension": ".py",
   "mimetype": "text/x-python",
   "name": "python",
   "nbconvert_exporter": "python",
   "pygments_lexer": "ipython3",
   "version": "3.8.1"
  }
 },
 "nbformat": 4,
 "nbformat_minor": 4
}

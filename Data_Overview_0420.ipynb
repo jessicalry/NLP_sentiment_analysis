{
 "cells": [
  {
   "cell_type": "code",
   "execution_count": 2,
   "metadata": {},
   "outputs": [],
   "source": [
    "import pandas as pd\n",
    "import numpy as np\n",
    "import random \n",
    "import matplotlib.pyplot as plt"
   ]
  },
  {
   "cell_type": "code",
   "execution_count": 28,
   "metadata": {},
   "outputs": [],
   "source": [
    "import nltk"
   ]
  },
  {
   "cell_type": "code",
   "execution_count": 9,
   "metadata": {
    "scrolled": true
   },
   "outputs": [],
   "source": [
    "# df = pd.read_json(\"review.json\")\n",
    "\n",
    "df = pd.read_json(\"review.json\", lines=True)"
   ]
  },
  {
   "cell_type": "code",
   "execution_count": 10,
   "metadata": {},
   "outputs": [
    {
     "data": {
      "text/plain": [
       "200000"
      ]
     },
     "execution_count": 10,
     "metadata": {},
     "output_type": "execute_result"
    }
   ],
   "source": [
    "len(df)"
   ]
  },
  {
   "cell_type": "code",
   "execution_count": 12,
   "metadata": {},
   "outputs": [],
   "source": [
    "df_sample_50 = df.sample(frac = 0.5)"
   ]
  },
  {
   "cell_type": "code",
   "execution_count": 14,
   "metadata": {},
   "outputs": [
    {
     "data": {
      "text/html": [
       "<div>\n",
       "<style scoped>\n",
       "    .dataframe tbody tr th:only-of-type {\n",
       "        vertical-align: middle;\n",
       "    }\n",
       "\n",
       "    .dataframe tbody tr th {\n",
       "        vertical-align: top;\n",
       "    }\n",
       "\n",
       "    .dataframe thead th {\n",
       "        text-align: right;\n",
       "    }\n",
       "</style>\n",
       "<table border=\"1\" class=\"dataframe\">\n",
       "  <thead>\n",
       "    <tr style=\"text-align: right;\">\n",
       "      <th></th>\n",
       "      <th>stars</th>\n",
       "      <th>text</th>\n",
       "      <th>useful</th>\n",
       "    </tr>\n",
       "  </thead>\n",
       "  <tbody>\n",
       "    <tr>\n",
       "      <th>3554</th>\n",
       "      <td>5</td>\n",
       "      <td>This was my first time and I wish I could give...</td>\n",
       "      <td>1</td>\n",
       "    </tr>\n",
       "    <tr>\n",
       "      <th>82799</th>\n",
       "      <td>5</td>\n",
       "      <td>I LOVE this Half Price Books location.  They d...</td>\n",
       "      <td>2</td>\n",
       "    </tr>\n",
       "    <tr>\n",
       "      <th>79355</th>\n",
       "      <td>4</td>\n",
       "      <td>I am a big fan of restaurants who will warmly ...</td>\n",
       "      <td>3</td>\n",
       "    </tr>\n",
       "    <tr>\n",
       "      <th>58650</th>\n",
       "      <td>4</td>\n",
       "      <td>Just had Sunday brunch at Soleil. It was terri...</td>\n",
       "      <td>1</td>\n",
       "    </tr>\n",
       "    <tr>\n",
       "      <th>182254</th>\n",
       "      <td>1</td>\n",
       "      <td>We usually sacrifice the terrible service for ...</td>\n",
       "      <td>6</td>\n",
       "    </tr>\n",
       "    <tr>\n",
       "      <th>...</th>\n",
       "      <td>...</td>\n",
       "      <td>...</td>\n",
       "      <td>...</td>\n",
       "    </tr>\n",
       "    <tr>\n",
       "      <th>47577</th>\n",
       "      <td>4</td>\n",
       "      <td>I've mostly been to happy hour so keep in mind...</td>\n",
       "      <td>1</td>\n",
       "    </tr>\n",
       "    <tr>\n",
       "      <th>99733</th>\n",
       "      <td>2</td>\n",
       "      <td>Rolling bones is alright. Their beef is a lot ...</td>\n",
       "      <td>1</td>\n",
       "    </tr>\n",
       "    <tr>\n",
       "      <th>41295</th>\n",
       "      <td>3</td>\n",
       "      <td>I love the décor and how different this place ...</td>\n",
       "      <td>0</td>\n",
       "    </tr>\n",
       "    <tr>\n",
       "      <th>152630</th>\n",
       "      <td>4</td>\n",
       "      <td>Love the Geoduck and the service is fast, they...</td>\n",
       "      <td>0</td>\n",
       "    </tr>\n",
       "    <tr>\n",
       "      <th>158480</th>\n",
       "      <td>4</td>\n",
       "      <td>It is always nice to eat at Obama.  I went the...</td>\n",
       "      <td>0</td>\n",
       "    </tr>\n",
       "  </tbody>\n",
       "</table>\n",
       "<p>100000 rows × 3 columns</p>\n",
       "</div>"
      ],
      "text/plain": [
       "        stars                                               text  useful\n",
       "3554        5  This was my first time and I wish I could give...       1\n",
       "82799       5  I LOVE this Half Price Books location.  They d...       2\n",
       "79355       4  I am a big fan of restaurants who will warmly ...       3\n",
       "58650       4  Just had Sunday brunch at Soleil. It was terri...       1\n",
       "182254      1  We usually sacrifice the terrible service for ...       6\n",
       "...       ...                                                ...     ...\n",
       "47577       4  I've mostly been to happy hour so keep in mind...       1\n",
       "99733       2  Rolling bones is alright. Their beef is a lot ...       1\n",
       "41295       3  I love the décor and how different this place ...       0\n",
       "152630      4  Love the Geoduck and the service is fast, they...       0\n",
       "158480      4  It is always nice to eat at Obama.  I went the...       0\n",
       "\n",
       "[100000 rows x 3 columns]"
      ]
     },
     "execution_count": 14,
     "metadata": {},
     "output_type": "execute_result"
    }
   ],
   "source": [
    "# yelp = df_sample_10[[\"review_id\", \"stars\", \"date\", \"text\", \"useful\"]]\n",
    "yelp = df_sample_50[[\"stars\", \"text\", \"useful\"]]\n",
    "yelp"
   ]
  },
  {
   "cell_type": "code",
   "execution_count": 16,
   "metadata": {},
   "outputs": [
    {
     "data": {
      "text/plain": [
       "6930"
      ]
     },
     "execution_count": 16,
     "metadata": {},
     "output_type": "execute_result"
    }
   ],
   "source": [
    "useful_review = yelp[yelp[\"useful\"] >= 4]\n",
    "len(useful_review)"
   ]
  },
  {
   "cell_type": "code",
   "execution_count": null,
   "metadata": {},
   "outputs": [],
   "source": [
    "useful_review"
   ]
  },
  {
   "cell_type": "code",
   "execution_count": 20,
   "metadata": {},
   "outputs": [
    {
     "data": {
      "text/plain": [
       "stars\n",
       "1    11797\n",
       "2     8590\n",
       "3    12149\n",
       "4    25626\n",
       "5    41838\n",
       "dtype: int64"
      ]
     },
     "execution_count": 20,
     "metadata": {},
     "output_type": "execute_result"
    }
   ],
   "source": [
    "grouped = yelp.groupby(by = \"stars\").size()\n",
    "grouped"
   ]
  },
  {
   "cell_type": "markdown",
   "metadata": {},
   "source": [
    "## Save as a zip file that contains out.csv"
   ]
  },
  {
   "cell_type": "code",
   "execution_count": 18,
   "metadata": {},
   "outputs": [],
   "source": [
    "compression_opts = dict(method='zip', archive_name='out.csv')  \n",
    "\n",
    "df.to_csv('out.zip', index=False, compression=compression_opts)"
   ]
  },
  {
   "cell_type": "markdown",
   "metadata": {},
   "source": [
    "## Convert notebook to py file"
   ]
  },
  {
   "cell_type": "code",
   "execution_count": 5,
   "metadata": {},
   "outputs": [
    {
     "name": "stdout",
     "output_type": "stream",
     "text": [
      "[NbConvertApp] Converting notebook Data_Overview.ipynb to script\n",
      "[NbConvertApp] Writing 1006 bytes to Data_Overview.py\n"
     ]
    }
   ],
   "source": [
    "!jupyter nbconvert --to script Data_Overview.ipynb"
   ]
  },
  {
   "cell_type": "code",
   "execution_count": 36,
   "metadata": {},
   "outputs": [
    {
     "data": {
      "text/html": [
       "<div>\n",
       "<style scoped>\n",
       "    .dataframe tbody tr th:only-of-type {\n",
       "        vertical-align: middle;\n",
       "    }\n",
       "\n",
       "    .dataframe tbody tr th {\n",
       "        vertical-align: top;\n",
       "    }\n",
       "\n",
       "    .dataframe thead th {\n",
       "        text-align: right;\n",
       "    }\n",
       "</style>\n",
       "<table border=\"1\" class=\"dataframe\">\n",
       "  <thead>\n",
       "    <tr style=\"text-align: right;\">\n",
       "      <th></th>\n",
       "      <th>stars</th>\n",
       "      <th>text</th>\n",
       "      <th>useful</th>\n",
       "    </tr>\n",
       "  </thead>\n",
       "  <tbody>\n",
       "    <tr>\n",
       "      <th>3554</th>\n",
       "      <td>5</td>\n",
       "      <td>This was my first time and I wish I could give...</td>\n",
       "      <td>1</td>\n",
       "    </tr>\n",
       "    <tr>\n",
       "      <th>82799</th>\n",
       "      <td>5</td>\n",
       "      <td>I LOVE this Half Price Books location.  They d...</td>\n",
       "      <td>2</td>\n",
       "    </tr>\n",
       "    <tr>\n",
       "      <th>79355</th>\n",
       "      <td>4</td>\n",
       "      <td>I am a big fan of restaurants who will warmly ...</td>\n",
       "      <td>3</td>\n",
       "    </tr>\n",
       "    <tr>\n",
       "      <th>58650</th>\n",
       "      <td>4</td>\n",
       "      <td>Just had Sunday brunch at Soleil. It was terri...</td>\n",
       "      <td>1</td>\n",
       "    </tr>\n",
       "    <tr>\n",
       "      <th>182254</th>\n",
       "      <td>1</td>\n",
       "      <td>We usually sacrifice the terrible service for ...</td>\n",
       "      <td>6</td>\n",
       "    </tr>\n",
       "    <tr>\n",
       "      <th>...</th>\n",
       "      <td>...</td>\n",
       "      <td>...</td>\n",
       "      <td>...</td>\n",
       "    </tr>\n",
       "    <tr>\n",
       "      <th>47577</th>\n",
       "      <td>4</td>\n",
       "      <td>I've mostly been to happy hour so keep in mind...</td>\n",
       "      <td>1</td>\n",
       "    </tr>\n",
       "    <tr>\n",
       "      <th>99733</th>\n",
       "      <td>2</td>\n",
       "      <td>Rolling bones is alright. Their beef is a lot ...</td>\n",
       "      <td>1</td>\n",
       "    </tr>\n",
       "    <tr>\n",
       "      <th>41295</th>\n",
       "      <td>3</td>\n",
       "      <td>I love the décor and how different this place ...</td>\n",
       "      <td>0</td>\n",
       "    </tr>\n",
       "    <tr>\n",
       "      <th>152630</th>\n",
       "      <td>4</td>\n",
       "      <td>Love the Geoduck and the service is fast, they...</td>\n",
       "      <td>0</td>\n",
       "    </tr>\n",
       "    <tr>\n",
       "      <th>158480</th>\n",
       "      <td>4</td>\n",
       "      <td>It is always nice to eat at Obama.  I went the...</td>\n",
       "      <td>0</td>\n",
       "    </tr>\n",
       "  </tbody>\n",
       "</table>\n",
       "<p>100000 rows × 3 columns</p>\n",
       "</div>"
      ],
      "text/plain": [
       "        stars                                               text  useful\n",
       "3554        5  This was my first time and I wish I could give...       1\n",
       "82799       5  I LOVE this Half Price Books location.  They d...       2\n",
       "79355       4  I am a big fan of restaurants who will warmly ...       3\n",
       "58650       4  Just had Sunday brunch at Soleil. It was terri...       1\n",
       "182254      1  We usually sacrifice the terrible service for ...       6\n",
       "...       ...                                                ...     ...\n",
       "47577       4  I've mostly been to happy hour so keep in mind...       1\n",
       "99733       2  Rolling bones is alright. Their beef is a lot ...       1\n",
       "41295       3  I love the décor and how different this place ...       0\n",
       "152630      4  Love the Geoduck and the service is fast, they...       0\n",
       "158480      4  It is always nice to eat at Obama.  I went the...       0\n",
       "\n",
       "[100000 rows x 3 columns]"
      ]
     },
     "execution_count": 36,
     "metadata": {},
     "output_type": "execute_result"
    }
   ],
   "source": [
    "yelp"
   ]
  },
  {
   "cell_type": "code",
   "execution_count": 46,
   "metadata": {},
   "outputs": [
    {
     "name": "stderr",
     "output_type": "stream",
     "text": [
      "<ipython-input-46-d3d9ddbd26c0>:1: SettingWithCopyWarning: \n",
      "A value is trying to be set on a copy of a slice from a DataFrame.\n",
      "Try using .loc[row_indexer,col_indexer] = value instead\n",
      "\n",
      "See the caveats in the documentation: https://pandas.pydata.org/pandas-docs/stable/user_guide/indexing.html#returning-a-view-versus-a-copy\n",
      "  yelp[\"lower\"] = yelp[\"text\"].str.lower()\n"
     ]
    },
    {
     "data": {
      "text/html": [
       "<div>\n",
       "<style scoped>\n",
       "    .dataframe tbody tr th:only-of-type {\n",
       "        vertical-align: middle;\n",
       "    }\n",
       "\n",
       "    .dataframe tbody tr th {\n",
       "        vertical-align: top;\n",
       "    }\n",
       "\n",
       "    .dataframe thead th {\n",
       "        text-align: right;\n",
       "    }\n",
       "</style>\n",
       "<table border=\"1\" class=\"dataframe\">\n",
       "  <thead>\n",
       "    <tr style=\"text-align: right;\">\n",
       "      <th></th>\n",
       "      <th>stars</th>\n",
       "      <th>text</th>\n",
       "      <th>useful</th>\n",
       "      <th>lower</th>\n",
       "    </tr>\n",
       "  </thead>\n",
       "  <tbody>\n",
       "    <tr>\n",
       "      <th>3554</th>\n",
       "      <td>5</td>\n",
       "      <td>This was my first time and I wish I could give...</td>\n",
       "      <td>1</td>\n",
       "      <td>this was my first time and i wish i could give...</td>\n",
       "    </tr>\n",
       "    <tr>\n",
       "      <th>82799</th>\n",
       "      <td>5</td>\n",
       "      <td>I LOVE this Half Price Books location.  They d...</td>\n",
       "      <td>2</td>\n",
       "      <td>i love this half price books location.  they d...</td>\n",
       "    </tr>\n",
       "    <tr>\n",
       "      <th>79355</th>\n",
       "      <td>4</td>\n",
       "      <td>I am a big fan of restaurants who will warmly ...</td>\n",
       "      <td>3</td>\n",
       "      <td>i am a big fan of restaurants who will warmly ...</td>\n",
       "    </tr>\n",
       "    <tr>\n",
       "      <th>58650</th>\n",
       "      <td>4</td>\n",
       "      <td>Just had Sunday brunch at Soleil. It was terri...</td>\n",
       "      <td>1</td>\n",
       "      <td>just had sunday brunch at soleil. it was terri...</td>\n",
       "    </tr>\n",
       "    <tr>\n",
       "      <th>182254</th>\n",
       "      <td>1</td>\n",
       "      <td>We usually sacrifice the terrible service for ...</td>\n",
       "      <td>6</td>\n",
       "      <td>we usually sacrifice the terrible service for ...</td>\n",
       "    </tr>\n",
       "    <tr>\n",
       "      <th>...</th>\n",
       "      <td>...</td>\n",
       "      <td>...</td>\n",
       "      <td>...</td>\n",
       "      <td>...</td>\n",
       "    </tr>\n",
       "    <tr>\n",
       "      <th>47577</th>\n",
       "      <td>4</td>\n",
       "      <td>I've mostly been to happy hour so keep in mind...</td>\n",
       "      <td>1</td>\n",
       "      <td>i've mostly been to happy hour so keep in mind...</td>\n",
       "    </tr>\n",
       "    <tr>\n",
       "      <th>99733</th>\n",
       "      <td>2</td>\n",
       "      <td>Rolling bones is alright. Their beef is a lot ...</td>\n",
       "      <td>1</td>\n",
       "      <td>rolling bones is alright. their beef is a lot ...</td>\n",
       "    </tr>\n",
       "    <tr>\n",
       "      <th>41295</th>\n",
       "      <td>3</td>\n",
       "      <td>I love the décor and how different this place ...</td>\n",
       "      <td>0</td>\n",
       "      <td>i love the décor and how different this place ...</td>\n",
       "    </tr>\n",
       "    <tr>\n",
       "      <th>152630</th>\n",
       "      <td>4</td>\n",
       "      <td>Love the Geoduck and the service is fast, they...</td>\n",
       "      <td>0</td>\n",
       "      <td>love the geoduck and the service is fast, they...</td>\n",
       "    </tr>\n",
       "    <tr>\n",
       "      <th>158480</th>\n",
       "      <td>4</td>\n",
       "      <td>It is always nice to eat at Obama.  I went the...</td>\n",
       "      <td>0</td>\n",
       "      <td>it is always nice to eat at obama.  i went the...</td>\n",
       "    </tr>\n",
       "  </tbody>\n",
       "</table>\n",
       "<p>100000 rows × 4 columns</p>\n",
       "</div>"
      ],
      "text/plain": [
       "        stars                                               text  useful  \\\n",
       "3554        5  This was my first time and I wish I could give...       1   \n",
       "82799       5  I LOVE this Half Price Books location.  They d...       2   \n",
       "79355       4  I am a big fan of restaurants who will warmly ...       3   \n",
       "58650       4  Just had Sunday brunch at Soleil. It was terri...       1   \n",
       "182254      1  We usually sacrifice the terrible service for ...       6   \n",
       "...       ...                                                ...     ...   \n",
       "47577       4  I've mostly been to happy hour so keep in mind...       1   \n",
       "99733       2  Rolling bones is alright. Their beef is a lot ...       1   \n",
       "41295       3  I love the décor and how different this place ...       0   \n",
       "152630      4  Love the Geoduck and the service is fast, they...       0   \n",
       "158480      4  It is always nice to eat at Obama.  I went the...       0   \n",
       "\n",
       "                                                    lower  \n",
       "3554    this was my first time and i wish i could give...  \n",
       "82799   i love this half price books location.  they d...  \n",
       "79355   i am a big fan of restaurants who will warmly ...  \n",
       "58650   just had sunday brunch at soleil. it was terri...  \n",
       "182254  we usually sacrifice the terrible service for ...  \n",
       "...                                                   ...  \n",
       "47577   i've mostly been to happy hour so keep in mind...  \n",
       "99733   rolling bones is alright. their beef is a lot ...  \n",
       "41295   i love the décor and how different this place ...  \n",
       "152630  love the geoduck and the service is fast, they...  \n",
       "158480  it is always nice to eat at obama.  i went the...  \n",
       "\n",
       "[100000 rows x 4 columns]"
      ]
     },
     "execution_count": 46,
     "metadata": {},
     "output_type": "execute_result"
    }
   ],
   "source": [
    "yelp[\"lower\"] = yelp[\"text\"].str.lower()\n",
    "yelp"
   ]
  },
  {
   "cell_type": "code",
   "execution_count": 49,
   "metadata": {},
   "outputs": [
    {
     "data": {
      "text/html": [
       "<div>\n",
       "<style scoped>\n",
       "    .dataframe tbody tr th:only-of-type {\n",
       "        vertical-align: middle;\n",
       "    }\n",
       "\n",
       "    .dataframe tbody tr th {\n",
       "        vertical-align: top;\n",
       "    }\n",
       "\n",
       "    .dataframe thead th {\n",
       "        text-align: right;\n",
       "    }\n",
       "</style>\n",
       "<table border=\"1\" class=\"dataframe\">\n",
       "  <thead>\n",
       "    <tr style=\"text-align: right;\">\n",
       "      <th></th>\n",
       "      <th>Unnamed: 0</th>\n",
       "      <th>user_id</th>\n",
       "      <th>stars</th>\n",
       "      <th>useful</th>\n",
       "      <th>text</th>\n",
       "      <th>tokenized_text</th>\n",
       "      <th>tokenized_text_string</th>\n",
       "    </tr>\n",
       "  </thead>\n",
       "  <tbody>\n",
       "    <tr>\n",
       "      <th>0</th>\n",
       "      <td>0</td>\n",
       "      <td>ak0TdVmGKo4pwqdJSTLwWw</td>\n",
       "      <td>4</td>\n",
       "      <td>3</td>\n",
       "      <td>Apparently Prides Osteria had a rough summer a...</td>\n",
       "      <td>['appar', 'pride', 'osteria', 'rough', 'summer...</td>\n",
       "      <td>appar pride osteria rough summer evidenc almos...</td>\n",
       "    </tr>\n",
       "    <tr>\n",
       "      <th>1</th>\n",
       "      <td>1</td>\n",
       "      <td>YoVfDbnISlW0f7abNQACIg</td>\n",
       "      <td>4</td>\n",
       "      <td>1</td>\n",
       "      <td>This store is pretty good. Not as great as Wal...</td>\n",
       "      <td>['store', 'pretti', 'good', '.', 'great', 'wal...</td>\n",
       "      <td>store pretti good . great walmart ( prefer , m...</td>\n",
       "    </tr>\n",
       "    <tr>\n",
       "      <th>2</th>\n",
       "      <td>2</td>\n",
       "      <td>eC5evKn1TWDyHCyQAwguUw</td>\n",
       "      <td>5</td>\n",
       "      <td>0</td>\n",
       "      <td>I called WVM on the recommendation of a couple...</td>\n",
       "      <td>['call', 'wvm', 'recommend', 'coupl', 'friend'...</td>\n",
       "      <td>call wvm recommend coupl friend use past thoug...</td>\n",
       "    </tr>\n",
       "    <tr>\n",
       "      <th>3</th>\n",
       "      <td>3</td>\n",
       "      <td>SFQ1jcnGguO0LYWnbbftAA</td>\n",
       "      <td>2</td>\n",
       "      <td>1</td>\n",
       "      <td>I've stayed at many Marriott and Renaissance M...</td>\n",
       "      <td>[\"'ve\", 'stay', 'mani', 'marriott', 'renaiss',...</td>\n",
       "      <td>'ve stay mani marriott renaiss marriott 's hug...</td>\n",
       "    </tr>\n",
       "    <tr>\n",
       "      <th>4</th>\n",
       "      <td>4</td>\n",
       "      <td>0kA0PAJ8QFMeveQWHFqz2A</td>\n",
       "      <td>4</td>\n",
       "      <td>0</td>\n",
       "      <td>The food is always great here. The service fro...</td>\n",
       "      <td>['food', 'alway', 'great', '.', 'servic', 'man...</td>\n",
       "      <td>food alway great . servic manag well staff sup...</td>\n",
       "    </tr>\n",
       "    <tr>\n",
       "      <th>...</th>\n",
       "      <td>...</td>\n",
       "      <td>...</td>\n",
       "      <td>...</td>\n",
       "      <td>...</td>\n",
       "      <td>...</td>\n",
       "      <td>...</td>\n",
       "      <td>...</td>\n",
       "    </tr>\n",
       "    <tr>\n",
       "      <th>199995</th>\n",
       "      <td>199995</td>\n",
       "      <td>RiNdQ_Jwi9fooifC4u_X4Q</td>\n",
       "      <td>1</td>\n",
       "      <td>0</td>\n",
       "      <td>****BUYER BEWARE****\\n\\nPurchased a voucher th...</td>\n",
       "      <td>['*', '*', '*', '*', 'buyer', 'bewar', '*', '*...</td>\n",
       "      <td>* * * * buyer bewar * * * * purchas voucher li...</td>\n",
       "    </tr>\n",
       "    <tr>\n",
       "      <th>199996</th>\n",
       "      <td>199996</td>\n",
       "      <td>KxelCZRC99hjRSRy1Mj6jg</td>\n",
       "      <td>3</td>\n",
       "      <td>2</td>\n",
       "      <td>Well, I was going out to breakfast on Sunday m...</td>\n",
       "      <td>['well', ',', 'go', 'breakfast', 'sunday', 'mo...</td>\n",
       "      <td>well , go breakfast sunday morn thought 'd goo...</td>\n",
       "    </tr>\n",
       "    <tr>\n",
       "      <th>199997</th>\n",
       "      <td>199997</td>\n",
       "      <td>OA9R0XlzvJqbDC2IQFMGdQ</td>\n",
       "      <td>3</td>\n",
       "      <td>0</td>\n",
       "      <td>Visited here during vacation. Okay for a quick...</td>\n",
       "      <td>['visit', 'vacat', '.', 'okay', 'quick', 'brea...</td>\n",
       "      <td>visit vacat . okay quick breakfast noth would ...</td>\n",
       "    </tr>\n",
       "    <tr>\n",
       "      <th>199998</th>\n",
       "      <td>199998</td>\n",
       "      <td>SqOimsoafaCiu7EJRCDUBw</td>\n",
       "      <td>5</td>\n",
       "      <td>0</td>\n",
       "      <td>Excellent flavors and so convenient to the min...</td>\n",
       "      <td>['excel', 'flavor', 'conveni', 'minuteman', 'b...</td>\n",
       "      <td>excel flavor conveni minuteman bicycl trail . ...</td>\n",
       "    </tr>\n",
       "    <tr>\n",
       "      <th>199999</th>\n",
       "      <td>199999</td>\n",
       "      <td>CX3mLQGtrm5oHdcsYClOpA</td>\n",
       "      <td>5</td>\n",
       "      <td>1</td>\n",
       "      <td>On The Fly is the best vegan carryout in Colum...</td>\n",
       "      <td>['fli', 'best', 'vegan', 'carryout', 'columbu'...</td>\n",
       "      <td>fli best vegan carryout columbu , hand . 's at...</td>\n",
       "    </tr>\n",
       "  </tbody>\n",
       "</table>\n",
       "<p>200000 rows × 7 columns</p>\n",
       "</div>"
      ],
      "text/plain": [
       "        Unnamed: 0                 user_id  stars  useful  \\\n",
       "0                0  ak0TdVmGKo4pwqdJSTLwWw      4       3   \n",
       "1                1  YoVfDbnISlW0f7abNQACIg      4       1   \n",
       "2                2  eC5evKn1TWDyHCyQAwguUw      5       0   \n",
       "3                3  SFQ1jcnGguO0LYWnbbftAA      2       1   \n",
       "4                4  0kA0PAJ8QFMeveQWHFqz2A      4       0   \n",
       "...            ...                     ...    ...     ...   \n",
       "199995      199995  RiNdQ_Jwi9fooifC4u_X4Q      1       0   \n",
       "199996      199996  KxelCZRC99hjRSRy1Mj6jg      3       2   \n",
       "199997      199997  OA9R0XlzvJqbDC2IQFMGdQ      3       0   \n",
       "199998      199998  SqOimsoafaCiu7EJRCDUBw      5       0   \n",
       "199999      199999  CX3mLQGtrm5oHdcsYClOpA      5       1   \n",
       "\n",
       "                                                     text  \\\n",
       "0       Apparently Prides Osteria had a rough summer a...   \n",
       "1       This store is pretty good. Not as great as Wal...   \n",
       "2       I called WVM on the recommendation of a couple...   \n",
       "3       I've stayed at many Marriott and Renaissance M...   \n",
       "4       The food is always great here. The service fro...   \n",
       "...                                                   ...   \n",
       "199995  ****BUYER BEWARE****\\n\\nPurchased a voucher th...   \n",
       "199996  Well, I was going out to breakfast on Sunday m...   \n",
       "199997  Visited here during vacation. Okay for a quick...   \n",
       "199998  Excellent flavors and so convenient to the min...   \n",
       "199999  On The Fly is the best vegan carryout in Colum...   \n",
       "\n",
       "                                           tokenized_text  \\\n",
       "0       ['appar', 'pride', 'osteria', 'rough', 'summer...   \n",
       "1       ['store', 'pretti', 'good', '.', 'great', 'wal...   \n",
       "2       ['call', 'wvm', 'recommend', 'coupl', 'friend'...   \n",
       "3       [\"'ve\", 'stay', 'mani', 'marriott', 'renaiss',...   \n",
       "4       ['food', 'alway', 'great', '.', 'servic', 'man...   \n",
       "...                                                   ...   \n",
       "199995  ['*', '*', '*', '*', 'buyer', 'bewar', '*', '*...   \n",
       "199996  ['well', ',', 'go', 'breakfast', 'sunday', 'mo...   \n",
       "199997  ['visit', 'vacat', '.', 'okay', 'quick', 'brea...   \n",
       "199998  ['excel', 'flavor', 'conveni', 'minuteman', 'b...   \n",
       "199999  ['fli', 'best', 'vegan', 'carryout', 'columbu'...   \n",
       "\n",
       "                                    tokenized_text_string  \n",
       "0       appar pride osteria rough summer evidenc almos...  \n",
       "1       store pretti good . great walmart ( prefer , m...  \n",
       "2       call wvm recommend coupl friend use past thoug...  \n",
       "3       've stay mani marriott renaiss marriott 's hug...  \n",
       "4       food alway great . servic manag well staff sup...  \n",
       "...                                                   ...  \n",
       "199995  * * * * buyer bewar * * * * purchas voucher li...  \n",
       "199996  well , go breakfast sunday morn thought 'd goo...  \n",
       "199997  visit vacat . okay quick breakfast noth would ...  \n",
       "199998  excel flavor conveni minuteman bicycl trail . ...  \n",
       "199999  fli best vegan carryout columbu , hand . 's at...  \n",
       "\n",
       "[200000 rows x 7 columns]"
      ]
     },
     "execution_count": 49,
     "metadata": {},
     "output_type": "execute_result"
    }
   ],
   "source": [
    "cleaned_df = pd.read_csv(\"df.csv\")\n",
    "cleaned_df"
   ]
  },
  {
   "cell_type": "markdown",
   "metadata": {},
   "source": [
    "## TF-IDF"
   ]
  },
  {
   "cell_type": "code",
   "execution_count": 50,
   "metadata": {},
   "outputs": [],
   "source": [
    "from sklearn.feature_extraction.text import TfidfVectorizer\n",
    "\n",
    "sentences = cleaned_df[\"tokenized_text_string\"]\n",
    "\n",
    "vectorizer = TfidfVectorizer(norm = False, smooth_idf = False)\n",
    "sentence_vectors = vectorizer.fit_transform(sentences)\n",
    "# print(sentence_vectors.toarray())"
   ]
  },
  {
   "cell_type": "code",
   "execution_count": 51,
   "metadata": {},
   "outputs": [
    {
     "data": {
      "text/plain": [
       "<200000x79791 sparse matrix of type '<class 'numpy.float64'>'\n",
       "\twith 9088945 stored elements in Compressed Sparse Row format>"
      ]
     },
     "execution_count": 51,
     "metadata": {},
     "output_type": "execute_result"
    }
   ],
   "source": [
    "sentence_vectors"
   ]
  },
  {
   "cell_type": "markdown",
   "metadata": {},
   "source": [
    "## Hashing Vectorizer"
   ]
  },
  {
   "cell_type": "code",
   "execution_count": 55,
   "metadata": {},
   "outputs": [
    {
     "data": {
      "text/plain": [
       "<200000x500 sparse matrix of type '<class 'numpy.float64'>'\n",
       "\twith 8493126 stored elements in Compressed Sparse Row format>"
      ]
     },
     "execution_count": 55,
     "metadata": {},
     "output_type": "execute_result"
    }
   ],
   "source": [
    "from sklearn.feature_extraction.text import HashingVectorizer\n",
    "\n",
    "sentences = cleaned_df[\"tokenized_text_string\"]\n",
    "\n",
    "vectorizer = HashingVectorizer(norm = None, n_features = 500)\n",
    "sentence_vectors_2 = vectorizer.fit_transform(sentences)\n",
    "# print(sentence_vectors.toarray())\n",
    "sentence_vectors_2"
   ]
  },
  {
   "cell_type": "markdown",
   "metadata": {},
   "source": [
    "## Word2Vec"
   ]
  },
  {
   "cell_type": "code",
   "execution_count": 43,
   "metadata": {},
   "outputs": [
    {
     "name": "stderr",
     "output_type": "stream",
     "text": [
      "/Library/Frameworks/Python.framework/Versions/3.8/lib/python3.8/site-packages/gensim/similarities/__init__.py:15: UserWarning: The gensim.similarities.levenshtein submodule is disabled, because the optional Levenshtein package <https://pypi.org/project/python-Levenshtein/> is unavailable. Install Levenhstein (e.g. `pip install python-Levenshtein`) to suppress this warning.\n",
      "  warnings.warn(msg)\n"
     ]
    }
   ],
   "source": [
    "from gensim.models import word2vec"
   ]
  },
  {
   "cell_type": "code",
   "execution_count": 44,
   "metadata": {},
   "outputs": [
    {
     "name": "stderr",
     "output_type": "stream",
     "text": [
      "<ipython-input-44-472ad06bc14a>:9: SettingWithCopyWarning: \n",
      "A value is trying to be set on a copy of a slice from a DataFrame\n",
      "\n",
      "See the caveats in the documentation: https://pandas.pydata.org/pandas-docs/stable/user_guide/indexing.html#returning-a-view-versus-a-copy\n",
      "  sentences[i] = tokenized\n",
      "/Library/Frameworks/Python.framework/Versions/3.8/lib/python3.8/site-packages/IPython/core/interactiveshell.py:3331: SettingWithCopyWarning: \n",
      "A value is trying to be set on a copy of a slice from a DataFrame\n",
      "\n",
      "See the caveats in the documentation: https://pandas.pydata.org/pandas-docs/stable/user_guide/indexing.html#returning-a-view-versus-a-copy\n",
      "  exec(code_obj, self.user_global_ns, self.user_ns)\n",
      "/Library/Frameworks/Python.framework/Versions/3.8/lib/python3.8/site-packages/pandas/core/indexing.py:670: SettingWithCopyWarning: \n",
      "A value is trying to be set on a copy of a slice from a DataFrame\n",
      "\n",
      "See the caveats in the documentation: https://pandas.pydata.org/pandas-docs/stable/user_guide/indexing.html#returning-a-view-versus-a-copy\n",
      "  self._setitem_with_indexer(indexer, value)\n"
     ]
    },
    {
     "ename": "AttributeError",
     "evalue": "'list' object has no attribute 'split'",
     "output_type": "error",
     "traceback": [
      "\u001b[0;31m---------------------------------------------------------------------------\u001b[0m",
      "\u001b[0;31mAttributeError\u001b[0m                            Traceback (most recent call last)",
      "\u001b[0;32m<ipython-input-44-472ad06bc14a>\u001b[0m in \u001b[0;36m<module>\u001b[0;34m\u001b[0m\n\u001b[1;32m      3\u001b[0m \u001b[0;32mfor\u001b[0m \u001b[0mi\u001b[0m\u001b[0;34m,\u001b[0m \u001b[0msentence\u001b[0m \u001b[0;32min\u001b[0m \u001b[0menumerate\u001b[0m\u001b[0;34m(\u001b[0m\u001b[0msentences\u001b[0m\u001b[0;34m)\u001b[0m\u001b[0;34m:\u001b[0m\u001b[0;34m\u001b[0m\u001b[0;34m\u001b[0m\u001b[0m\n\u001b[1;32m      4\u001b[0m         \u001b[0mtokenized\u001b[0m\u001b[0;34m=\u001b[0m \u001b[0;34m[\u001b[0m\u001b[0;34m]\u001b[0m\u001b[0;34m\u001b[0m\u001b[0;34m\u001b[0m\u001b[0m\n\u001b[0;32m----> 5\u001b[0;31m         \u001b[0;32mfor\u001b[0m \u001b[0mword\u001b[0m \u001b[0;32min\u001b[0m \u001b[0msentence\u001b[0m\u001b[0;34m.\u001b[0m\u001b[0msplit\u001b[0m\u001b[0;34m(\u001b[0m\u001b[0;34m' '\u001b[0m\u001b[0;34m)\u001b[0m\u001b[0;34m:\u001b[0m\u001b[0;34m\u001b[0m\u001b[0;34m\u001b[0m\u001b[0m\n\u001b[0m\u001b[1;32m      6\u001b[0m                 \u001b[0mword\u001b[0m \u001b[0;34m=\u001b[0m \u001b[0mword\u001b[0m\u001b[0;34m.\u001b[0m\u001b[0msplit\u001b[0m\u001b[0;34m(\u001b[0m\u001b[0;34m'.'\u001b[0m\u001b[0;34m)\u001b[0m\u001b[0;34m[\u001b[0m\u001b[0;36m0\u001b[0m\u001b[0;34m]\u001b[0m\u001b[0;34m\u001b[0m\u001b[0;34m\u001b[0m\u001b[0m\n\u001b[1;32m      7\u001b[0m                 \u001b[0mword\u001b[0m \u001b[0;34m=\u001b[0m \u001b[0mword\u001b[0m\u001b[0;34m.\u001b[0m\u001b[0mlower\u001b[0m\u001b[0;34m(\u001b[0m\u001b[0;34m)\u001b[0m\u001b[0;34m\u001b[0m\u001b[0;34m\u001b[0m\u001b[0m\n",
      "\u001b[0;31mAttributeError\u001b[0m: 'list' object has no attribute 'split'"
     ]
    }
   ],
   "source": [
    "# sentences = yelp[\"text\"]\n",
    "\n",
    "# for i, sentence in enumerate(sentences):\n",
    "# \ttokenized= []\n",
    "# \tfor word in sentence.split(' '):\n",
    "# \t\tword = word.split('.')[0]\n",
    "# \t\tword = word.lower()\n",
    "# \t\ttokenized.append(word)\n",
    "# \tsentences[i] = tokenized\n",
    "\n",
    "# model = word2vec.Word2Vec(sentences, workers = 1, size = 2, min_count = 1, window = 3, sg = 0)\n",
    "# similar_word = model.wv.most_similar('football')[0]\n",
    "# print(\"Most common word to football is: {}\".format(similar_word[0]))"
   ]
  },
  {
   "cell_type": "code",
   "execution_count": null,
   "metadata": {},
   "outputs": [],
   "source": [
    "\n",
    "from sklearn.feature_extraction.text import TfidfVectorizer\n",
    "\n",
    "sentences = [\n",
    "    'He is playing in the field.',\n",
    "    'He is running towards the football.',\n",
    "    'The football game ended.',\n",
    "    'It started raining while everyone was playing in the field.'\n",
    "]\n",
    "\n",
    "vectorizer = TfidfVectorizer(norm = False, smooth_idf = False)\n",
    "sentence_vectors = vectorizer.fit_transform(sentences)\n",
    "print(sentence_vectors.toarray())"
   ]
  }
 ],
 "metadata": {
  "kernelspec": {
   "display_name": "Python 3",
   "language": "python",
   "name": "python3"
  },
  "language_info": {
   "codemirror_mode": {
    "name": "ipython",
    "version": 3
   },
   "file_extension": ".py",
   "mimetype": "text/x-python",
   "name": "python",
   "nbconvert_exporter": "python",
   "pygments_lexer": "ipython3",
   "version": "3.8.1"
  }
 },
 "nbformat": 4,
 "nbformat_minor": 4
}
